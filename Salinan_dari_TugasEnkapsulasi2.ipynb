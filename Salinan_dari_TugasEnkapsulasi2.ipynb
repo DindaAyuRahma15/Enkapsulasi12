{
  "nbformat": 4,
  "nbformat_minor": 0,
  "metadata": {
    "colab": {
      "provenance": [],
      "include_colab_link": true
    },
    "kernelspec": {
      "name": "python3",
      "display_name": "Python 3"
    },
    "language_info": {
      "name": "python"
    }
  },
  "cells": [
    {
      "cell_type": "markdown",
      "metadata": {
        "id": "view-in-github",
        "colab_type": "text"
      },
      "source": [
        "<a href=\"https://colab.research.google.com/github/DindaAyuRahma15/Enkapsulasi12/blob/main/Salinan_dari_TugasEnkapsulasi2.ipynb\" target=\"_parent\"><img src=\"https://colab.research.google.com/assets/colab-badge.svg\" alt=\"Open In Colab\"/></a>"
      ]
    },
    {
      "cell_type": "markdown",
      "source": [
        "Buatlah kelas RekeningBank dengan atribut berikut:\n",
        "\n",
        "*   nama_pemilik (private)\n",
        "*   saldo (private)\n",
        "\n",
        "Berikan metode berikut:\n",
        "\n",
        "*   __init__: Menginisialisasi saldo dan nama_pemilik.\n",
        "*   set_saldo: Mengubah nilai saldo.\n",
        "*   get_saldo: Mengembalikan nilai saldo.\n",
        "*   set_nama_pemilik: Mengubah nama pemilik.\n",
        "*   get_nama_pemilik: Mengembalikan nama pemilik.\n",
        "\n",
        "\n",
        "\n",
        "\n",
        "\n",
        "\n",
        "\n",
        "\n"
      ],
      "metadata": {
        "id": "PktiI90eS6Ee"
      }
    },
    {
      "cell_type": "code",
      "source": [
        "# Desain class\n",
        "class RekeningBank:\n",
        "  def __init__(self, nama_pemilik, saldo):\n",
        "    self.__saldo = saldo\n",
        "    self.__nama_pemilik = nama_pemilik\n",
        "\n",
        "  def set_saldo(self, saldo):\n",
        "    self.__saldo = saldo\n",
        "\n",
        "  def get_saldo(self):\n",
        "    return self.__saldo\n",
        "\n",
        "  def set_nama_pemilik(self, nama_pemilik):\n",
        "    self.__nama_pemilik = nama_pemilik\n",
        "\n",
        "  def get_nama_pemilik(self):\n",
        "    return self.__nama_pemilik\n",
        "\n",
        "  def setor(self, jumlah):\n",
        "    if jumlah > 0:\n",
        "      self.__saldo += jumlah\n",
        "      print(\"Setoran Berhasil. Saldo sekarang:\", self.__saldo)\n",
        "\n",
        "    else:\n",
        "      print(\"Jumlah Setoran Harus Lebih Dari 0\")\n",
        "\n",
        "  def tarik(self, jumlah):\n",
        "    if jumlah > 0 and jumlah <= self.__saldo:\n",
        "      self.__saldo -= jumlah\n",
        "      print(\"Penarikan Berhasil. Saldo Sekarang:\", self.__saldo)\n",
        "\n",
        "    else:\n",
        "      print(\"Jumlah Penarikan Tidak Valid Atau Saldo Tidak Mencukupi\")\n"
      ],
      "metadata": {
        "id": "Pyj-mkyciVfk"
      },
      "execution_count": 1,
      "outputs": []
    },
    {
      "cell_type": "code",
      "source": [
        "#Program utama untuk mendemonstrasikan class RekeningBank\n",
        "#yang menunjukkan penggunaan semua fungsi yang ada\n",
        "rekening1 = RekeningBank(\"ani\", 3000000)\n",
        "\n",
        "print(\"Nama Pemilik: \", rekening1.get_nama_pemilik())\n",
        "print(\"Saldo: \", rekening1.get_saldo())\n",
        "\n",
        "rekening1.set_nama_pemilik(\"dinda\")\n",
        "rekening1.set_saldo(4500000)\n",
        "\n",
        "print(\"\\nNama Pemilik setelah diubah: \", rekening1.get_nama_pemilik())\n",
        "print(\"Saldo setelah diubah: \", rekening1.get_saldo())"
      ],
      "metadata": {
        "id": "aOwy6rfdSga2",
        "colab": {
          "base_uri": "https://localhost:8080/"
        },
        "outputId": "7813b6f3-cf34-4dbf-a91e-e22a185b491e"
      },
      "execution_count": 2,
      "outputs": [
        {
          "output_type": "stream",
          "name": "stdout",
          "text": [
            "Nama Pemilik:  ani\n",
            "Saldo:  3000000\n",
            "\n",
            "Nama Pemilik setelah diubah:  dinda\n",
            "Saldo setelah diubah:  4500000\n"
          ]
        }
      ]
    }
  ]
}